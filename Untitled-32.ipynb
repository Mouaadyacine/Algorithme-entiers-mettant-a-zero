{
 "cells": [
  {
   "cell_type": "code",
   "execution_count": null,
   "metadata": {},
   "outputs": [],
   "source": [
    "variable\n",
    "   i:entier \n",
    "tableau\n",
    "       tab[10]\n",
    "Pour i de 0 à 9, faire :\n",
    "    tab[i] \n",
    "fin pour \n",
    "ecrire(\"tableau rempli avec des zeros\")\n",
    "pour i de 0 a 9 pas 1 faire \n",
    "ecrire(tab(i))\n",
    "fin pour \n",
    "fin "
   ]
  }
 ],
 "metadata": {
  "language_info": {
   "name": "python"
  }
 },
 "nbformat": 4,
 "nbformat_minor": 2
}
